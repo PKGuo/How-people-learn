{
 "cells": [
  {
   "cell_type": "code",
   "execution_count": 1,
   "metadata": {},
   "outputs": [
    {
     "data": {
      "text/html": [
       "        <script type=\"text/javascript\">\n",
       "        window.PlotlyConfig = {MathJaxConfig: 'local'};\n",
       "        if (window.MathJax) {MathJax.Hub.Config({SVG: {font: \"STIX-Web\"}});}\n",
       "        if (typeof require !== 'undefined') {\n",
       "        require.undef(\"plotly\");\n",
       "        requirejs.config({\n",
       "            paths: {\n",
       "                'plotly': ['https://cdn.plot.ly/plotly-latest.min']\n",
       "            }\n",
       "        });\n",
       "        require(['plotly'], function(Plotly) {\n",
       "            window._Plotly = Plotly;\n",
       "        });\n",
       "        }\n",
       "        </script>\n",
       "        "
      ]
     },
     "metadata": {},
     "output_type": "display_data"
    }
   ],
   "source": [
    "import numpy as np\n",
    "import sympy as sp\n",
    "import sys, os \n",
    "sys.path.append('../Librairie')\n",
    "from AL_Fct import *\n",
    "from IPython.display import display, Latex"
   ]
  },
  {
   "cell_type": "markdown",
   "metadata": {},
   "source": [
    "# Les (Properties) charactéristiques des déterminants\n",
    "\n",
    "Dans ce Jupyter Notebook, on va explorer les charactéristiques des déterminants et comment elles peuvent aider à calculer les determinants"
   ]
  },
  {
   "cell_type": "markdown",
   "metadata": {},
   "source": [
    "## Notation\n",
    "\n",
    "En générale, la notation de lignes droites autour des matrices veut dire qu'on prend le déterminant. \n",
    "$$\\det \\left[\\begin{matrix} a & b \\\\ c & d \\end{matrix}\\right] = \\left|\\begin{matrix} a & b \\\\ c & d \\end{matrix}\\right|\n",
    "$$\n",
    "\n",
    "---\n",
    "\n",
    "In general, the notation of sraight lines around the matrices means that we are taking the determinant. i.e.\n",
    "$$\\det \\left[\\begin{matrix} a & b \\\\ c & d \\end{matrix}\\right] = \\left|\\begin{matrix} a & b \\\\ c & d \\end{matrix}\\right|\n",
    "$$"
   ]
  },
  {
   "cell_type": "markdown",
   "metadata": {},
   "source": [
    "### (Triangular Matrices)\n",
    "\n",
    "Si $A$ est une matrice triangulaire, le déterminant est le produit du diagonal principal de $A$.\n",
    "\n",
    "$$ A = \\left| \\begin{matrix} \n",
    "        a_{11} & a_{12} & a_{13} & a_{14} \\\\\n",
    "        0      & a_{22} & a_{23} & a_{24} \\\\\n",
    "        0      & 0      & a_{33} & a_{34} \\\\\n",
    "        0      & 0      & 0      & a_{44}\n",
    "       \\end{matrix} \\right| \n",
    "       = a_{11}a_{22}a_{33}a_{44}\n",
    "       $$\n",
    "       \n",
    "----\n",
    "\n",
    "If $A$ is a triangular matrix, the determinant is the product of the main diagonal of $A$."
   ]
  },
  {
   "cell_type": "markdown",
   "metadata": {},
   "source": [
    "### (Row Operations \\ Properties of Determinants)\n"
   ]
  },
  {
   "cell_type": "markdown",
   "metadata": {},
   "source": [
    "Soit $A$ est une matrice carrée \n",
    "\n",
    "Si un multiple d'une rangée de $A$ est ajouté à une autre ligne pour faire la matrice $B$, le déterminant de $B$ est égal au déterminant de $A$\n",
    "$$ \\det B = \\det A $$\n",
    "\n",
    "--- \n",
    "Si deux rangées de $A$ sont échangées pour faire $B$, le déterminant de $B$ est égal au négatif du déterminant de $A$\n",
    "$$ \\det B = -\\det A $$\n",
    "\n",
    "---\n",
    "Si une rangée de $A$ est multipliée par $\\textit{k}$ pour faire $B$, le déterminant de $B$ est le déterminant de $A$ multiplié par $\\textit{k}$.\n",
    "$$ \\det B = \\textit{k} \\cdot \\det A $$\n",
    "\n",
    "---\n",
    "---\n",
    "Let A be a square matrix, \n",
    "If a multiple of one row of A is added to another row to produce a matrix B, then det B = det A;\n",
    "If two rows of A are interchanged to produce B, then det B = - det A;\n",
    "If one row of A is multiplied by k to produce B, then det B = k det A. \n",
    "\n",
    "(See Lay, 5th edition p. 171)\n",
    "\n",
    "#### An example here could be useful"
   ]
  },
  {
   "cell_type": "markdown",
   "metadata": {},
   "source": [
    "### (Invertibility)\n",
    "\n",
    "Si une matrice carrée $A$ est (invertible), son déterminant ne peut pas être égal à zéro. $ (\\det A \\neq 0) $\n",
    "\n",
    "---\n",
    "If a square matrix is invertible, its determinant cannot be equal to zero. "
   ]
  },
  {
   "cell_type": "markdown",
   "metadata": {},
   "source": [
    "### Transposes\n",
    "\n",
    "Si $A$ est une $n \\times n$ matrice (carrée), soit $ \\det A^T = \\det A $\n",
    "\n",
    "---\n",
    "\n",
    "If A is a square matrix, then the deterimant of its transpose is equal to its determinant. i.e. $ \\det A^T = \\det A $\n",
    "See p. 174 of Lay 5th edition. \n"
   ]
  },
  {
   "cell_type": "markdown",
   "metadata": {},
   "source": [
    "### (Property of Multiplicative Property)\n",
    "\n",
    "Si $A$ et $B$ sont deux matrices carrées de taille $ n  \\times n$, le déterminant de $AB$ est le produit des déterminants de $A$ et $B$.\n",
    "$$\\det AB = (\\det A)(\\det B) $$\n",
    "\n",
    "Cependant, ceci n'est pas le cas pour l'addition ou la soustraction de matrices. En générale, $$ \\det (A \\pm B) \\neq \\det A \\pm \\det B $$\n",
    "\n",
    "#### Another example here could be useful"
   ]
  },
  {
   "cell_type": "code",
   "execution_count": null,
   "metadata": {},
   "outputs": [],
   "source": []
  }
 ],
 "metadata": {
  "kernelspec": {
   "display_name": "Python 3",
   "language": "python",
   "name": "python3"
  },
  "language_info": {
   "codemirror_mode": {
    "name": "ipython",
    "version": 3
   },
   "file_extension": ".py",
   "mimetype": "text/x-python",
   "name": "python",
   "nbconvert_exporter": "python",
   "pygments_lexer": "ipython3",
   "version": "3.7.6"
  }
 },
 "nbformat": 4,
 "nbformat_minor": 4
}
