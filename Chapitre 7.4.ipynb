{
 "cells": [
  {
   "cell_type": "code",
   "execution_count": 1,
   "metadata": {},
   "outputs": [
    {
     "data": {
      "text/html": [
       "        <script type=\"text/javascript\">\n",
       "        window.PlotlyConfig = {MathJaxConfig: 'local'};\n",
       "        if (window.MathJax) {MathJax.Hub.Config({SVG: {font: \"STIX-Web\"}});}\n",
       "        if (typeof require !== 'undefined') {\n",
       "        require.undef(\"plotly\");\n",
       "        requirejs.config({\n",
       "            paths: {\n",
       "                'plotly': ['https://cdn.plot.ly/plotly-latest.min']\n",
       "            }\n",
       "        });\n",
       "        require(['plotly'], function(Plotly) {\n",
       "            window._Plotly = Plotly;\n",
       "        });\n",
       "        }\n",
       "        </script>\n",
       "        "
      ]
     },
     "metadata": {},
     "output_type": "display_data"
    }
   ],
   "source": [
    "import numpy as np\n",
    "import sympy as sp\n",
    "import sys, os \n",
    "sys.path.append('../Librairie')\n",
    "from AL_Fct import *\n",
    "from IPython.display import display, Latex"
   ]
  },
  {
   "cell_type": "markdown",
   "metadata": {},
   "source": [
    "# Le déterminant d'un produit\n",
    "\n",
    "Soit $A$ et $B$ sont deux matrices carrées de taille $ n  \\times n$, le déterminant de $AB$ est le produit des déterminants de $A$ et $B$.\n",
    "$$\\det AB = (\\det A)(\\det B) $$\n",
    "\n",
    "Cependant, ceci n'est pas le cas pour l'addition ou la soustraction de matrices. En générale, $$ \\det (A \\pm B) \\neq \\det A \\pm \\det B $$\n",
    "\n"
   ]
  },
  {
   "cell_type": "markdown",
   "metadata": {},
   "source": [
    "Soit $A$ est une matrice de taille $n \\times n$ et $A$ est inversible, le déterminant de $A^-1$ est:\n",
    "$$\\det A^{-1} = \\frac{1}{\\det A} $$"
   ]
  },
  {
   "cell_type": "markdown",
   "metadata": {},
   "source": [
    "Soit $A$ et $B$ sont duex matrices semblables de taille $n \\times n$. Le déterminant de $A$ est égal au déterminant de $B$.\n",
    "$$\\det A = \\det B$$"
   ]
  },
  {
   "cell_type": "markdown",
   "metadata": {},
   "source": [
    "En utilisant ces régles ci en haut, trouvez le determinant de $C$.\n",
    "$$C = B A^{-1}$$\n",
    "\n",
    "$$ A = \\left[ \\begin{matrix} \n",
    "        3 & -2 & 7   \\\\\n",
    "        1 & -1 & 4   \\\\\n",
    "        2 & 5  & -6  \\\\\n",
    "       \\end{matrix} \\right]$$\n",
    "       \n",
    "$$B = \\left[ \\begin{matrix} \n",
    "           4 & -3 & 0 \\\\\n",
    "           9 & -4 & -1 \\\\\n",
    "           -7 & 1 & 1 \\\\\n",
    "       \\end{matrix} \\right]$$"
   ]
  },
  {
   "cell_type": "markdown",
   "metadata": {},
   "source": []
  },
  {
   "cell_type": "code",
   "execution_count": 9,
   "metadata": {},
   "outputs": [],
   "source": [
    "def red_matrix(A, i, j):\n",
    "    \"\"\" Return reduced matrix (without row i and col j)\"\"\"\n",
    "    row = [0, 1, 2]\n",
    "    col = [0, 1, 2]\n",
    "    row.remove(i-1)\n",
    "    col.remove(j-1)\n",
    "    return A[row, col]\n",
    "\n",
    "\n",
    "def pl_mi(i,j, first=False):\n",
    "    \"\"\" Return '+', '-' depending on row and col index\"\"\"\n",
    "    if (-1)**(i+j)>0:\n",
    "        if first:\n",
    "            return \"\"\n",
    "        else:\n",
    "            return \"+\"\n",
    "    else:\n",
    "        return \"-\"\n",
    "    \n",
    "def brackets(expr):\n",
    "    \"\"\"Takes a sympy expression, determine if it needs parenthesis and returns a string containing latex of expr\n",
    "    with or without the parenthesis.\"\"\"\n",
    "    expr_latex = sp.latex(expr)\n",
    "    if '+' in expr_latex or '-' in expr_latex:\n",
    "        return \"(\" + expr_latex + \")\"\n",
    "    else:\n",
    "        return expr_latex\n",
    "\n",
    "    \n",
    "def Determinant_3x3(A, step_by_step=True ,row=True, n=1):\n",
    "    \"\"\"\n",
    "    Step by step computation of the determinant of a 3x3 sympy matrix strating with given row/col number\n",
    "    :param A: 3 by 3 sympy matrix \n",
    "    :param step_by_step: Boolean, True: print step by step derivation of det, False: print only determinant \n",
    "    :param row: True to compute determinant from row n, False to compute determinant from col n\n",
    "    :param n: row or col number to compute the determinant from (int between 1 and 3)\n",
    "    :return: display step by step solution for \n",
    "    \"\"\"\n",
    "    \n",
    "    if A.shape!=(3,3):\n",
    "        raise ValueError('Dimension of matrix A should be 3x3. The input A must be a sp.Matrix of shape (3,3).')\n",
    "    if n<1 or n>3 or not isinstance(n, int):\n",
    "        raise ValueError('n should be an integer between 1 and 3.')\n",
    "    \n",
    "    # Construc string for determinant of matrix A\n",
    "    detA_s = sp.latex(A).replace('[','|').replace(']','|')\n",
    "    \n",
    "    # To print all the steps\n",
    "    if step_by_step:\n",
    "\n",
    "        # If we compute the determinant with row n \n",
    "        if row:\n",
    "            # Matrix with row i and col j removed (red_matrix(A, i, j))\n",
    "            A1 = red_matrix(A, n, 1)\n",
    "            A2 = red_matrix(A, n, 2)\n",
    "            A3 = red_matrix(A, n, 3)\n",
    "            detA1_s = sp.latex(A1).replace('[','|').replace(']','|')\n",
    "\n",
    "            detA2_s = sp.latex(A2).replace('[','|').replace(']','|')\n",
    "            detA3_s = sp.latex(A3).replace('[','|').replace(']','|')\n",
    "\n",
    "            line1 = \"$\" + detA_s + ' = ' + pl_mi(n,1, True) + sp.latex(A[n-1, 0])  + detA1_s + pl_mi(n,2) + \\\n",
    "                    sp.latex(A[n-1, 1]) + detA2_s + pl_mi(n,3) + sp.latex(A[n-1, 2]) + detA3_s + '$'\n",
    "\n",
    "            line2 = '$' + detA_s + ' = ' + pl_mi(n,1, True) + sp.latex(A[n-1, 0]) + \"\\cdot (\" + sp.latex(sp.det(A1)) \\\n",
    "                    +\")\" + pl_mi(n,2) + sp.latex(A[n-1, 1]) + \"\\cdot (\" +  sp.latex(sp.det(A2)) + \")\"+ \\\n",
    "                    pl_mi(n,3) + sp.latex(A[n-1, 2]) + \"\\cdot (\" + sp.latex(sp.det(A3)) + ')$'\n",
    "            line3 = '$' + detA_s + ' = ' + sp.latex(sp.simplify(sp.det(A))) + '$'\n",
    "\n",
    "        # If we compute the determinant with col n \n",
    "        else:\n",
    "            # Matrix with row i and col j removed (red_matrix(A, i, j))\n",
    "            A1 = red_matrix(A, 1, n)\n",
    "            A2 = red_matrix(A, 2, n)\n",
    "            A3 = red_matrix(A, 3, n)\n",
    "            detA1_s = sp.latex(A1).replace('[','|').replace(']','|')\n",
    "            detA2_s = sp.latex(A2).replace('[','|').replace(']','|')\n",
    "            detA3_s = sp.latex(A3).replace('[','|').replace(']','|')\n",
    "\n",
    "            line1 = \"$\" + detA_s + ' = ' + pl_mi(n,1, True) + brackets(A[0, n-1])  + detA1_s + pl_mi(n,2) + \\\n",
    "                    brackets(A[1, n-1]) + detA2_s + pl_mi(n,3) + brackets(A[2, n-1]) + detA3_s + '$'\n",
    "\n",
    "            line2 = '$' + detA_s + ' = ' + pl_mi(n,1, True) + brackets(A[0, n-1]) + \"\\cdot (\" + sp.latex(sp.det(A1))\\\n",
    "                    +\")\" + pl_mi(n,2) + brackets(A[1, n-1]) + \"\\cdot (\" +  sp.latex(sp.det(A2)) + \")\"+ \\\n",
    "                    pl_mi(n,3) + brackets(A[2, n-1]) + \"\\cdot (\" + sp.latex(sp.det(A3)) + ')$'\n",
    "\n",
    "            line3 = '$' + detA_s + ' = ' + sp.latex(sp.simplify(sp.det(A))) + '$'\n",
    "\n",
    "        # Display step by step computation of determinant\n",
    "        display(Latex(line1))\n",
    "        display(Latex(line2))\n",
    "        display(Latex(line3))\n",
    "    # Only print the determinant without any step\n",
    "    else:\n",
    "        display(Latex(\"$\" + detA_s + \"=\" + sp.latex(sp.det(A)) + \"$\"))"
   ]
  },
  {
   "cell_type": "code",
   "execution_count": 18,
   "metadata": {},
   "outputs": [],
   "source": []
  },
  {
   "cell_type": "code",
   "execution_count": 20,
   "metadata": {},
   "outputs": [
    {
     "data": {
      "text/latex": [
       "$\\left|\\begin{matrix}3 & -2 & 7\\\\1 & -1 & 4\\\\2 & 5 & -6\\end{matrix}\\right| = 3\\left|\\begin{matrix}-1 & 4\\\\5 & -6\\end{matrix}\\right|--2\\left|\\begin{matrix}1 & 4\\\\2 & -6\\end{matrix}\\right|+7\\left|\\begin{matrix}1 & -1\\\\2 & 5\\end{matrix}\\right|$"
      ],
      "text/plain": [
       "<IPython.core.display.Latex object>"
      ]
     },
     "metadata": {},
     "output_type": "display_data"
    },
    {
     "data": {
      "text/latex": [
       "$\\left|\\begin{matrix}3 & -2 & 7\\\\1 & -1 & 4\\\\2 & 5 & -6\\end{matrix}\\right| = 3\\cdot (-14)--2\\cdot (-14)+7\\cdot (7)$"
      ],
      "text/plain": [
       "<IPython.core.display.Latex object>"
      ]
     },
     "metadata": {},
     "output_type": "display_data"
    },
    {
     "data": {
      "text/latex": [
       "$\\left|\\begin{matrix}3 & -2 & 7\\\\1 & -1 & 4\\\\2 & 5 & -6\\end{matrix}\\right| = -21$"
      ],
      "text/plain": [
       "<IPython.core.display.Latex object>"
      ]
     },
     "metadata": {},
     "output_type": "display_data"
    },
    {
     "data": {
      "text/latex": [
       "$\\left|\\begin{matrix}4 & -3 & 0\\\\9 & -4 & -1\\\\-7 & 1 & 1\\end{matrix}\\right| = 4\\left|\\begin{matrix}-4 & -1\\\\1 & 1\\end{matrix}\\right|--3\\left|\\begin{matrix}9 & -1\\\\-7 & 1\\end{matrix}\\right|+0\\left|\\begin{matrix}9 & -4\\\\-7 & 1\\end{matrix}\\right|$"
      ],
      "text/plain": [
       "<IPython.core.display.Latex object>"
      ]
     },
     "metadata": {},
     "output_type": "display_data"
    },
    {
     "data": {
      "text/latex": [
       "$\\left|\\begin{matrix}4 & -3 & 0\\\\9 & -4 & -1\\\\-7 & 1 & 1\\end{matrix}\\right| = 4\\cdot (-3)--3\\cdot (2)+0\\cdot (-19)$"
      ],
      "text/plain": [
       "<IPython.core.display.Latex object>"
      ]
     },
     "metadata": {},
     "output_type": "display_data"
    },
    {
     "data": {
      "text/latex": [
       "$\\left|\\begin{matrix}4 & -3 & 0\\\\9 & -4 & -1\\\\-7 & 1 & 1\\end{matrix}\\right| = -6$"
      ],
      "text/plain": [
       "<IPython.core.display.Latex object>"
      ]
     },
     "metadata": {},
     "output_type": "display_data"
    }
   ],
   "source": []
  },
  {
   "cell_type": "markdown",
   "metadata": {},
   "source": [
    "$$ \\det C = \\frac{\\det B}{\\det A} = \\frac{-6}{-21} = \\frac{2}{7} $$ "
   ]
  },
  {
   "cell_type": "code",
   "execution_count": 80,
   "metadata": {},
   "outputs": [],
   "source": [
    "def question1_solution(reponse):\n",
    "    if np.abs(reponse - 2/7) > 0.01:\n",
    "        display(\"La solution est donnée ci desous.\")\n",
    "        A = sp.Matrix([[3,-2,7], [1,-1,4], [2,5,-6]])\n",
    "        B = sp.Matrix([[4, -3, 0],[9, -4, -1],[-7, 1, 1]])\n",
    "        Determinant_3x3(A, step_by_step = True)\n",
    "        Determinant_3x3(B, step_by_step = True)\n",
    "        display(Latex(\"$$ \\det C = \\det B \\det A^{-1} = \\det B \\left( \\\\frac{1}{\\det A} \\\\right) = \\\\frac{\\det B}{\\det A} = \\\\frac{-6}{-21} = \\\\frac{2}{7} $$\"))\n",
    "    else:\n",
    "        display(\"Bravo! Vous avez trouvé la réponse\")"
   ]
  },
  {
   "cell_type": "code",
   "execution_count": 81,
   "metadata": {},
   "outputs": [
    {
     "data": {
      "text/plain": [
       "'Bravo! Vous avez trouvé la réponse'"
      ]
     },
     "metadata": {},
     "output_type": "display_data"
    }
   ],
   "source": [
    "# Écrivez votre réponse ici avec 3 décimales (3 decimal places );\n",
    "reponse = 0.285;\n",
    "\n",
    "\n",
    "question1_solution(reponse)"
   ]
  },
  {
   "cell_type": "code",
   "execution_count": 82,
   "metadata": {},
   "outputs": [
    {
     "data": {
      "text/plain": [
       "'La solution est donnée ci desous.'"
      ]
     },
     "metadata": {},
     "output_type": "display_data"
    },
    {
     "data": {
      "text/latex": [
       "$\\left|\\begin{matrix}3 & -2 & 7\\\\1 & -1 & 4\\\\2 & 5 & -6\\end{matrix}\\right| = 3\\left|\\begin{matrix}-1 & 4\\\\5 & -6\\end{matrix}\\right|--2\\left|\\begin{matrix}1 & 4\\\\2 & -6\\end{matrix}\\right|+7\\left|\\begin{matrix}1 & -1\\\\2 & 5\\end{matrix}\\right|$"
      ],
      "text/plain": [
       "<IPython.core.display.Latex object>"
      ]
     },
     "metadata": {},
     "output_type": "display_data"
    },
    {
     "data": {
      "text/latex": [
       "$\\left|\\begin{matrix}3 & -2 & 7\\\\1 & -1 & 4\\\\2 & 5 & -6\\end{matrix}\\right| = 3\\cdot (-14)--2\\cdot (-14)+7\\cdot (7)$"
      ],
      "text/plain": [
       "<IPython.core.display.Latex object>"
      ]
     },
     "metadata": {},
     "output_type": "display_data"
    },
    {
     "data": {
      "text/latex": [
       "$\\left|\\begin{matrix}3 & -2 & 7\\\\1 & -1 & 4\\\\2 & 5 & -6\\end{matrix}\\right| = -21$"
      ],
      "text/plain": [
       "<IPython.core.display.Latex object>"
      ]
     },
     "metadata": {},
     "output_type": "display_data"
    },
    {
     "data": {
      "text/latex": [
       "$\\left|\\begin{matrix}4 & -3 & 0\\\\9 & -4 & -1\\\\-7 & 1 & 1\\end{matrix}\\right| = 4\\left|\\begin{matrix}-4 & -1\\\\1 & 1\\end{matrix}\\right|--3\\left|\\begin{matrix}9 & -1\\\\-7 & 1\\end{matrix}\\right|+0\\left|\\begin{matrix}9 & -4\\\\-7 & 1\\end{matrix}\\right|$"
      ],
      "text/plain": [
       "<IPython.core.display.Latex object>"
      ]
     },
     "metadata": {},
     "output_type": "display_data"
    },
    {
     "data": {
      "text/latex": [
       "$\\left|\\begin{matrix}4 & -3 & 0\\\\9 & -4 & -1\\\\-7 & 1 & 1\\end{matrix}\\right| = 4\\cdot (-3)--3\\cdot (2)+0\\cdot (-19)$"
      ],
      "text/plain": [
       "<IPython.core.display.Latex object>"
      ]
     },
     "metadata": {},
     "output_type": "display_data"
    },
    {
     "data": {
      "text/latex": [
       "$\\left|\\begin{matrix}4 & -3 & 0\\\\9 & -4 & -1\\\\-7 & 1 & 1\\end{matrix}\\right| = -6$"
      ],
      "text/plain": [
       "<IPython.core.display.Latex object>"
      ]
     },
     "metadata": {},
     "output_type": "display_data"
    },
    {
     "data": {
      "text/latex": [
       "$$ \\det C = \\det B \\det A^{-1} = \\det B \\left( \\frac{1}{\\det A} \\right) = \\frac{\\det B}{\\det A} = \\frac{-6}{-21} = \\frac{2}{7} $$"
      ],
      "text/plain": [
       "<IPython.core.display.Latex object>"
      ]
     },
     "metadata": {},
     "output_type": "display_data"
    }
   ],
   "source": [
    "reponse_faux = 0.2\n",
    "\n",
    "question1_solution(reponse_faux)"
   ]
  },
  {
   "cell_type": "code",
   "execution_count": null,
   "metadata": {},
   "outputs": [],
   "source": []
  },
  {
   "cell_type": "code",
   "execution_count": null,
   "metadata": {},
   "outputs": [],
   "source": []
  }
 ],
 "metadata": {
  "kernelspec": {
   "display_name": "Python 3",
   "language": "python",
   "name": "python3"
  },
  "language_info": {
   "codemirror_mode": {
    "name": "ipython",
    "version": 3
   },
   "file_extension": ".py",
   "mimetype": "text/x-python",
   "name": "python",
   "nbconvert_exporter": "python",
   "pygments_lexer": "ipython3",
   "version": "3.7.6"
  }
 },
 "nbformat": 4,
 "nbformat_minor": 4
}
