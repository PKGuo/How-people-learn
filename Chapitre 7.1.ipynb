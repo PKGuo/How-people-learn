{
 "cells": [
  {
   "cell_type": "code",
   "execution_count": 2,
   "metadata": {},
   "outputs": [
    {
     "data": {
      "text/html": [
       "        <script type=\"text/javascript\">\n",
       "        window.PlotlyConfig = {MathJaxConfig: 'local'};\n",
       "        if (window.MathJax) {MathJax.Hub.Config({SVG: {font: \"STIX-Web\"}});}\n",
       "        if (typeof require !== 'undefined') {\n",
       "        require.undef(\"plotly\");\n",
       "        requirejs.config({\n",
       "            paths: {\n",
       "                'plotly': ['https://cdn.plot.ly/plotly-latest.min']\n",
       "            }\n",
       "        });\n",
       "        require(['plotly'], function(Plotly) {\n",
       "            window._Plotly = Plotly;\n",
       "        });\n",
       "        }\n",
       "        </script>\n",
       "        "
      ]
     },
     "metadata": {},
     "output_type": "display_data"
    }
   ],
   "source": [
    "import numpy as np\n",
    "import sympy as sp\n",
    "import sys, os \n",
    "sys.path.append('../Librairie')\n",
    "from AL_Fct import *\n",
    "from IPython.display import display, Latex"
   ]
  },
  {
   "cell_type": "markdown",
   "metadata": {},
   "source": [
    "### Définition du déterminant\n",
    "Soit $A=(a_{ij})\\in M_{n \\times n}(\\mathbb{R})$ une matrice de taille $n \\times n$ à coefficients réels. Pour $1\\leq i,j\\leq n,$ on définit $\\hat{A}_{ij}$ comme étant la matrice de taille $(n-1) \\times (n-1)$ obtenue en supprimant dans $A$ la $i$-ème ligne et la $j$-ème colonne. Le déterminant de $A$ est le nombre réel défini récursivement par  \n",
    "$$\\det A = a_{11} \\det \\hat{A}_{11} - a_{12}\\det \\hat{A}_{12} + \\cdots + (-1)^{n+1} a_{1n}\\det \\hat{A}_{1n} $$\n",
    "où $\\det (a)=a$ pour tout $(a)\\in M_{1 \\times 1}(\\mathbb{R}).$"
   ]
  },
  {
   "cell_type": "markdown",
   "metadata": {},
   "source": [
    "### Exemple 1: Application de la définition à une matrice 2x2\n",
    "\n",
    "Soit $A= \\left[\\begin{matrix}a & b\\\\ c & d \\end{matrix}\\right]$\n",
    "\n",
    "On utilise la définition ci-dessus pour trouver le determinant:\n",
    "\n",
    "$$ \\det A = a_{11} \\det \\hat{A}_{11} - a_{12}\\det \\hat{A}_{12} =a  \\cdot \\det \\left[\\begin{matrix} d \\end{matrix}\\right] - b \\cdot \\det \\left[\\begin{matrix} c \\end{matrix}\\right] = ad - bc$$ \n"
   ]
  },
  {
   "cell_type": "code",
   "execution_count": 3,
   "metadata": {},
   "outputs": [],
   "source": [
    "def red_matrix(A, i, j):\n",
    "    \"\"\" Return reduced matrix (without row i and col j)\"\"\"\n",
    "    row = [0, 1, 2]\n",
    "    col = [0, 1, 2]\n",
    "    row.remove(i-1)\n",
    "    col.remove(j-1)\n",
    "    return A[row, col]\n",
    "\n",
    "\n",
    "def pl_mi(i,j, first=False):\n",
    "    \"\"\" Return '+', '-' depending on row and col index\"\"\"\n",
    "    if (-1)**(i+j)>0:\n",
    "        if first:\n",
    "            return \"\"\n",
    "        else:\n",
    "            return \"+\"\n",
    "    else:\n",
    "        return \"-\"\n",
    "    \n",
    "def brackets(expr):\n",
    "    \"\"\"Takes a sympy expression, determine if it needs parenthesis and returns a string containing latex of expr\n",
    "    with or without the parenthesis.\"\"\"\n",
    "    expr_latex = sp.latex(expr)\n",
    "    if '+' in expr_latex or '-' in expr_latex:\n",
    "        return \"(\" + expr_latex + \")\"\n",
    "    else:\n",
    "        return expr_latex\n",
    "\n",
    "    \n",
    "def Determinant_3x3(A, step_by_step=True ,row=True, n=1):\n",
    "    \"\"\"\n",
    "    Step by step computation of the determinant of a 3x3 sympy matrix strating with given row/col number\n",
    "    :param A: 3 by 3 sympy matrix \n",
    "    :param step_by_step: Boolean, True: print step by step derivation of det, False: print only determinant \n",
    "    :param row: True to compute determinant from row n, False to compute determinant from col n\n",
    "    :param n: row or col number to compute the determinant from (int between 1 and 3)\n",
    "    :return: display step by step solution for \n",
    "    \"\"\"\n",
    "    \n",
    "    if A.shape!=(3,3):\n",
    "        raise ValueError('Dimension of matrix A should be 3x3. The input A must be a sp.Matrix of shape (3,3).')\n",
    "    if n<1 or n>3 or not isinstance(n, int):\n",
    "        raise ValueError('n should be an integer between 1 and 3.')\n",
    "    \n",
    "    # Construc string for determinant of matrix A\n",
    "    detA_s = sp.latex(A).replace('[','|').replace(']','|')\n",
    "    \n",
    "    # To print all the steps\n",
    "    if step_by_step:\n",
    "\n",
    "        # If we compute the determinant with row n \n",
    "        if row:\n",
    "            # Matrix with row i and col j removed (red_matrix(A, i, j))\n",
    "            A1 = red_matrix(A, n, 1)\n",
    "            A2 = red_matrix(A, n, 2)\n",
    "            A3 = red_matrix(A, n, 3)\n",
    "            detA1_s = sp.latex(A1).replace('[','|').replace(']','|')\n",
    "\n",
    "            detA2_s = sp.latex(A2).replace('[','|').replace(']','|')\n",
    "            detA3_s = sp.latex(A3).replace('[','|').replace(']','|')\n",
    "\n",
    "            line1 = \"$\" + detA_s + ' = ' + pl_mi(n,1, True) + sp.latex(A[n-1, 0])  + detA1_s + pl_mi(n,2) + \\\n",
    "                    sp.latex(A[n-1, 1]) + detA2_s + pl_mi(n,3) + sp.latex(A[n-1, 2]) + detA3_s + '$'\n",
    "\n",
    "            line2 = '$' + detA_s + ' = ' + pl_mi(n,1, True) + sp.latex(A[n-1, 0]) + \"\\cdot (\" + sp.latex(sp.det(A1)) \\\n",
    "                    +\")\" + pl_mi(n,2) + sp.latex(A[n-1, 1]) + \"\\cdot (\" +  sp.latex(sp.det(A2)) + \")\"+ \\\n",
    "                    pl_mi(n,3) + sp.latex(A[n-1, 2]) + \"\\cdot (\" + sp.latex(sp.det(A3)) + ')$'\n",
    "            line3 = '$' + detA_s + ' = ' + sp.latex(sp.simplify(sp.det(A))) + '$'\n",
    "\n",
    "        # If we compute the determinant with col n \n",
    "        else:\n",
    "            # Matrix with row i and col j removed (red_matrix(A, i, j))\n",
    "            A1 = red_matrix(A, 1, n)\n",
    "            A2 = red_matrix(A, 2, n)\n",
    "            A3 = red_matrix(A, 3, n)\n",
    "            detA1_s = sp.latex(A1).replace('[','|').replace(']','|')\n",
    "            detA2_s = sp.latex(A2).replace('[','|').replace(']','|')\n",
    "            detA3_s = sp.latex(A3).replace('[','|').replace(']','|')\n",
    "\n",
    "            line1 = \"$\" + detA_s + ' = ' + pl_mi(n,1, True) + brackets(A[0, n-1])  + detA1_s + pl_mi(n,2) + \\\n",
    "                    brackets(A[1, n-1]) + detA2_s + pl_mi(n,3) + brackets(A[2, n-1]) + detA3_s + '$'\n",
    "\n",
    "            line2 = '$' + detA_s + ' = ' + pl_mi(n,1, True) + brackets(A[0, n-1]) + \"\\cdot (\" + sp.latex(sp.det(A1))\\\n",
    "                    +\")\" + pl_mi(n,2) + brackets(A[1, n-1]) + \"\\cdot (\" +  sp.latex(sp.det(A2)) + \")\"+ \\\n",
    "                    pl_mi(n,3) + brackets(A[2, n-1]) + \"\\cdot (\" + sp.latex(sp.det(A3)) + ')$'\n",
    "\n",
    "            line3 = '$' + detA_s + ' = ' + sp.latex(sp.simplify(sp.det(A))) + '$'\n",
    "\n",
    "        # Display step by step computation of determinant\n",
    "        display(Latex(line1))\n",
    "        display(Latex(line2))\n",
    "        display(Latex(line3))\n",
    "    # Only print the determinant without any step\n",
    "    else:\n",
    "        display(Latex(\"$\" + detA_s + \"=\" + sp.latex(sp.det(A)) + \"$\"))"
   ]
  },
  {
   "cell_type": "markdown",
   "metadata": {},
   "source": [
    "### Exercice 1:  Calculs de déterminants en utilisant la définition"
   ]
  },
  {
   "cell_type": "code",
   "execution_count": 4,
   "metadata": {},
   "outputs": [
    {
     "data": {
      "text/latex": [
       "$\\left|\\begin{matrix}1 & x & 0.75\\\\0.5 & 2.0 & 4\\\\1 & x & 43\\end{matrix}\\right| = 1\\left|\\begin{matrix}2.0 & 4\\\\x & 43\\end{matrix}\\right|-x\\left|\\begin{matrix}0.5 & 4\\\\1 & 43\\end{matrix}\\right|+0.75\\left|\\begin{matrix}0.5 & 2.0\\\\1 & x\\end{matrix}\\right|$"
      ],
      "text/plain": [
       "<IPython.core.display.Latex object>"
      ]
     },
     "metadata": {},
     "output_type": "display_data"
    },
    {
     "data": {
      "text/latex": [
       "$\\left|\\begin{matrix}1 & x & 0.75\\\\0.5 & 2.0 & 4\\\\1 & x & 43\\end{matrix}\\right| = 1\\cdot (86.0 - 4 x)-x\\cdot (17.5)+0.75\\cdot (0.5 x - 2.0)$"
      ],
      "text/plain": [
       "<IPython.core.display.Latex object>"
      ]
     },
     "metadata": {},
     "output_type": "display_data"
    },
    {
     "data": {
      "text/latex": [
       "$\\left|\\begin{matrix}1 & x & 0.75\\\\0.5 & 2.0 & 4\\\\1 & x & 43\\end{matrix}\\right| = 84.5 - 21.125 x$"
      ],
      "text/plain": [
       "<IPython.core.display.Latex object>"
      ]
     },
     "metadata": {},
     "output_type": "display_data"
    }
   ],
   "source": [
    "x = sp.symbols('x')\n",
    "A = sp.Matrix([[1,x,3/4], [0.5,20/10,4], [1,x**2/x,43]])\n",
    "\n",
    "Determinant_3x3(A, step_by_step = True)\n"
   ]
  },
  {
   "cell_type": "markdown",
   "metadata": {},
   "source": [
    "### Règle de Sarrus\n",
    "Soit $A=(a_{ij})\\in M_{3\\times 3}(\\mathbb{R})$. Alors\n",
    "\n",
    "$$\\det A=a_{11}a_{22}a_{33}+a_{12}a_{23}a_{31}+a_{13}a_{21}a_{32}-a_{13}a_{22}a_{31}-a_{11}a_{23}a_{32}-a_{12}a_{21}a_{33}$$"
   ]
  },
  {
   "cell_type": "markdown",
   "metadata": {},
   "source": [
    "### Exercice 2: Calculs de déterminants en utilisant la règle de Sarrus\n",
    "A l'aide de la règle de Sarrus, calculez les determinants des matrices suivantes:\n",
    "\n",
    "$$ \\mbox{a)} \\hspace{3mm} \\left[\\begin{matrix}1 & x & 0.75\\\\0.5 & 2.0 & 4\\\\1 & x & 43\\end{matrix}\\right] \\hspace{20mm} \\mbox{b)} \\hspace{3mm} \\left[\\begin{matrix}1 & x & 0.75\\\\0.5 & 2.0 & 4\\\\1 & x & 43\\end{matrix}\\right] \\hspace{20mm} \\mbox{c)} \\hspace{3mm} \\left[\\begin{matrix}1 & x & 0.75\\\\0.5 & 2.0 & 4\\\\1 & x & 43\\end{matrix}\\right]$$"
   ]
  },
  {
   "cell_type": "code",
   "execution_count": null,
   "metadata": {},
   "outputs": [],
   "source": [
    "A = sp.Matrix([[1,1,1], [1,1,1], [1,1,1]])\n",
    "\n",
    "\n"
   ]
  },
  {
   "cell_type": "code",
   "execution_count": null,
   "metadata": {},
   "outputs": [],
   "source": []
  }
 ],
 "metadata": {
  "kernelspec": {
   "display_name": "Python 3",
   "language": "python",
   "name": "python3"
  },
  "language_info": {
   "codemirror_mode": {
    "name": "ipython",
    "version": 3
   },
   "file_extension": ".py",
   "mimetype": "text/x-python",
   "name": "python",
   "nbconvert_exporter": "python",
   "pygments_lexer": "ipython3",
   "version": "3.7.6"
  }
 },
 "nbformat": 4,
 "nbformat_minor": 2
}
